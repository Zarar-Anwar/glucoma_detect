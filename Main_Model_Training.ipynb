{
  "cells": [
    {
      "cell_type": "markdown",
      "metadata": {
        "id": "cxq0ul2fLjMR"
      },
      "source": [
        "Libraries"
      ]
    },
    {
      "cell_type": "code",
      "execution_count": 42,
      "metadata": {
        "colab": {
          "base_uri": "https://localhost:8080/"
        },
        "id": "sHo1xt9cYfEP",
        "outputId": "ac9ff585-ac91-4daa-d0c2-b7808e08efda"
      },
      "outputs": [
        {
          "output_type": "stream",
          "name": "stdout",
          "text": [
            "Drive already mounted at /content/drive; to attempt to forcibly remount, call drive.mount(\"/content/drive\", force_remount=True).\n"
          ]
        }
      ],
      "source": [
        "from google.colab import drive\n",
        "drive.mount('/content/drive')"
      ]
    },
    {
      "cell_type": "code",
      "execution_count": 43,
      "metadata": {
        "id": "4MJ1m4mZLizl"
      },
      "outputs": [],
      "source": [
        "import os\n",
        "import numpy as np\n",
        "import tensorflow as tf\n",
        "from tensorflow.keras.applications import DenseNet201\n",
        "from tensorflow.keras.preprocessing.image import ImageDataGenerator\n",
        "from xgboost import XGBClassifier\n",
        "from sklearn.metrics import accuracy_score"
      ]
    },
    {
      "cell_type": "markdown",
      "metadata": {
        "id": "CaGemMQyMSk9"
      },
      "source": [
        "Data Path"
      ]
    },
    {
      "cell_type": "code",
      "execution_count": 44,
      "metadata": {
        "id": "0st5pBT0MSvh"
      },
      "outputs": [],
      "source": [
        "data_dir = \"/content/drive/MyDrive/Final data set ggg\"\n",
        "img_height, img_width = 150, 150  # You can adjust these dimensions as needed.\n",
        "batch_size = 32"
      ]
    },
    {
      "cell_type": "markdown",
      "metadata": {
        "id": "2pp2aYwFMcCp"
      },
      "source": [
        "Data augmentation"
      ]
    },
    {
      "cell_type": "code",
      "execution_count": 45,
      "metadata": {
        "id": "HpF68vo9MhF4",
        "colab": {
          "base_uri": "https://localhost:8080/"
        },
        "outputId": "990978d2-ec4b-42bd-910f-d910bad6ea7d"
      },
      "outputs": [
        {
          "output_type": "stream",
          "name": "stdout",
          "text": [
            "Found 913 images belonging to 3 classes.\n",
            "Found 227 images belonging to 3 classes.\n"
          ]
        }
      ],
      "source": [
        "# Create data generators with data augmentation\n",
        "datagen = ImageDataGenerator(\n",
        "    rescale=1./255,\n",
        "    rotation_range=20,\n",
        "    width_shift_range=0.2,\n",
        "    height_shift_range=0.2,\n",
        "    horizontal_flip=True,\n",
        "    validation_split=0.2\n",
        ")\n",
        "\n",
        "train_generator = datagen.flow_from_directory(\n",
        "    data_dir,\n",
        "    target_size=(img_height, img_width),\n",
        "    batch_size=batch_size,\n",
        "    class_mode='binary',\n",
        "    subset='training'\n",
        ")\n",
        "\n",
        "validation_generator = datagen.flow_from_directory(\n",
        "    data_dir,\n",
        "    target_size=(img_height, img_width),\n",
        "    batch_size=batch_size,\n",
        "    class_mode='binary',\n",
        "    subset='validation'\n",
        ")\n"
      ]
    },
    {
      "cell_type": "markdown",
      "metadata": {
        "id": "_UkF8u-OMlHH"
      },
      "source": [
        "**Model( Using DenseNet201 as base model)**"
      ]
    },
    {
      "cell_type": "code",
      "execution_count": 46,
      "metadata": {
        "id": "Zw5s49qgMlXG"
      },
      "outputs": [],
      "source": [
        "# Create a pre-trained DenseNet201 model to extract features\n",
        "base_model = DenseNet201(weights='imagenet', include_top=False, input_shape=(img_height, img_width, 3))\n",
        "for layer in base_model.layers:\n",
        "    layer.trainable = False"
      ]
    },
    {
      "cell_type": "code",
      "execution_count": 47,
      "metadata": {
        "id": "QleWXat6NrI-",
        "colab": {
          "base_uri": "https://localhost:8080/"
        },
        "outputId": "9df1e2b6-bd48-4742-b9bc-f49f1a5ce68e"
      },
      "outputs": [
        {
          "output_type": "stream",
          "name": "stdout",
          "text": [
            "29/29 [==============================] - 74s 3s/step\n"
          ]
        }
      ],
      "source": [
        "# Extract features for the training data\n",
        "train_features = base_model.predict(train_generator)\n",
        "train_labels = train_generator.classes\n"
      ]
    },
    {
      "cell_type": "code",
      "execution_count": 48,
      "metadata": {
        "id": "7YuNAvPqNuzt",
        "colab": {
          "base_uri": "https://localhost:8080/"
        },
        "outputId": "744c99ad-a973-4099-8530-aab7dc5f2627"
      },
      "outputs": [
        {
          "output_type": "stream",
          "name": "stdout",
          "text": [
            "8/8 [==============================] - 32s 5s/step\n"
          ]
        }
      ],
      "source": [
        "# Extract features for the validation data\n",
        "validation_features = base_model.predict(validation_generator)\n",
        "validation_labels = validation_generator.classes\n"
      ]
    },
    {
      "cell_type": "code",
      "execution_count": 49,
      "metadata": {
        "id": "i3_E32nsNxZj"
      },
      "outputs": [],
      "source": [
        "# Reshape the features for XGBoost (2D matrix)\n",
        "train_features = train_features.reshape(train_features.shape[0], -1)\n",
        "validation_features = validation_features.reshape(validation_features.shape[0], -1)\n"
      ]
    },
    {
      "cell_type": "markdown",
      "metadata": {
        "id": "O8MYk19YN2z6"
      },
      "source": [
        "Train XGBoost"
      ]
    },
    {
      "cell_type": "code",
      "execution_count": 50,
      "metadata": {
        "colab": {
          "base_uri": "https://localhost:8080/",
          "height": 248
        },
        "id": "j8C9o3azNzwE",
        "outputId": "0c593218-e61a-40f7-8790-6309c8680c97"
      },
      "outputs": [
        {
          "output_type": "execute_result",
          "data": {
            "text/plain": [
              "XGBClassifier(base_score=None, booster=None, callbacks=None,\n",
              "              colsample_bylevel=None, colsample_bynode=None,\n",
              "              colsample_bytree=None, device=None, early_stopping_rounds=None,\n",
              "              enable_categorical=False, eval_metric=None, feature_types=None,\n",
              "              gamma=None, grow_policy=None, importance_type=None,\n",
              "              interaction_constraints=None, learning_rate=None, max_bin=None,\n",
              "              max_cat_threshold=None, max_cat_to_onehot=None,\n",
              "              max_delta_step=None, max_depth=None, max_leaves=None,\n",
              "              min_child_weight=None, missing=nan, monotone_constraints=None,\n",
              "              multi_strategy=None, n_estimators=None, n_jobs=None,\n",
              "              num_parallel_tree=None, objective='multi:softprob', ...)"
            ],
            "text/html": [
              "<style>#sk-container-id-4 {color: black;background-color: white;}#sk-container-id-4 pre{padding: 0;}#sk-container-id-4 div.sk-toggleable {background-color: white;}#sk-container-id-4 label.sk-toggleable__label {cursor: pointer;display: block;width: 100%;margin-bottom: 0;padding: 0.3em;box-sizing: border-box;text-align: center;}#sk-container-id-4 label.sk-toggleable__label-arrow:before {content: \"▸\";float: left;margin-right: 0.25em;color: #696969;}#sk-container-id-4 label.sk-toggleable__label-arrow:hover:before {color: black;}#sk-container-id-4 div.sk-estimator:hover label.sk-toggleable__label-arrow:before {color: black;}#sk-container-id-4 div.sk-toggleable__content {max-height: 0;max-width: 0;overflow: hidden;text-align: left;background-color: #f0f8ff;}#sk-container-id-4 div.sk-toggleable__content pre {margin: 0.2em;color: black;border-radius: 0.25em;background-color: #f0f8ff;}#sk-container-id-4 input.sk-toggleable__control:checked~div.sk-toggleable__content {max-height: 200px;max-width: 100%;overflow: auto;}#sk-container-id-4 input.sk-toggleable__control:checked~label.sk-toggleable__label-arrow:before {content: \"▾\";}#sk-container-id-4 div.sk-estimator input.sk-toggleable__control:checked~label.sk-toggleable__label {background-color: #d4ebff;}#sk-container-id-4 div.sk-label input.sk-toggleable__control:checked~label.sk-toggleable__label {background-color: #d4ebff;}#sk-container-id-4 input.sk-hidden--visually {border: 0;clip: rect(1px 1px 1px 1px);clip: rect(1px, 1px, 1px, 1px);height: 1px;margin: -1px;overflow: hidden;padding: 0;position: absolute;width: 1px;}#sk-container-id-4 div.sk-estimator {font-family: monospace;background-color: #f0f8ff;border: 1px dotted black;border-radius: 0.25em;box-sizing: border-box;margin-bottom: 0.5em;}#sk-container-id-4 div.sk-estimator:hover {background-color: #d4ebff;}#sk-container-id-4 div.sk-parallel-item::after {content: \"\";width: 100%;border-bottom: 1px solid gray;flex-grow: 1;}#sk-container-id-4 div.sk-label:hover label.sk-toggleable__label {background-color: #d4ebff;}#sk-container-id-4 div.sk-serial::before {content: \"\";position: absolute;border-left: 1px solid gray;box-sizing: border-box;top: 0;bottom: 0;left: 50%;z-index: 0;}#sk-container-id-4 div.sk-serial {display: flex;flex-direction: column;align-items: center;background-color: white;padding-right: 0.2em;padding-left: 0.2em;position: relative;}#sk-container-id-4 div.sk-item {position: relative;z-index: 1;}#sk-container-id-4 div.sk-parallel {display: flex;align-items: stretch;justify-content: center;background-color: white;position: relative;}#sk-container-id-4 div.sk-item::before, #sk-container-id-4 div.sk-parallel-item::before {content: \"\";position: absolute;border-left: 1px solid gray;box-sizing: border-box;top: 0;bottom: 0;left: 50%;z-index: -1;}#sk-container-id-4 div.sk-parallel-item {display: flex;flex-direction: column;z-index: 1;position: relative;background-color: white;}#sk-container-id-4 div.sk-parallel-item:first-child::after {align-self: flex-end;width: 50%;}#sk-container-id-4 div.sk-parallel-item:last-child::after {align-self: flex-start;width: 50%;}#sk-container-id-4 div.sk-parallel-item:only-child::after {width: 0;}#sk-container-id-4 div.sk-dashed-wrapped {border: 1px dashed gray;margin: 0 0.4em 0.5em 0.4em;box-sizing: border-box;padding-bottom: 0.4em;background-color: white;}#sk-container-id-4 div.sk-label label {font-family: monospace;font-weight: bold;display: inline-block;line-height: 1.2em;}#sk-container-id-4 div.sk-label-container {text-align: center;}#sk-container-id-4 div.sk-container {/* jupyter's `normalize.less` sets `[hidden] { display: none; }` but bootstrap.min.css set `[hidden] { display: none !important; }` so we also need the `!important` here to be able to override the default hidden behavior on the sphinx rendered scikit-learn.org. See: https://github.com/scikit-learn/scikit-learn/issues/21755 */display: inline-block !important;position: relative;}#sk-container-id-4 div.sk-text-repr-fallback {display: none;}</style><div id=\"sk-container-id-4\" class=\"sk-top-container\"><div class=\"sk-text-repr-fallback\"><pre>XGBClassifier(base_score=None, booster=None, callbacks=None,\n",
              "              colsample_bylevel=None, colsample_bynode=None,\n",
              "              colsample_bytree=None, device=None, early_stopping_rounds=None,\n",
              "              enable_categorical=False, eval_metric=None, feature_types=None,\n",
              "              gamma=None, grow_policy=None, importance_type=None,\n",
              "              interaction_constraints=None, learning_rate=None, max_bin=None,\n",
              "              max_cat_threshold=None, max_cat_to_onehot=None,\n",
              "              max_delta_step=None, max_depth=None, max_leaves=None,\n",
              "              min_child_weight=None, missing=nan, monotone_constraints=None,\n",
              "              multi_strategy=None, n_estimators=None, n_jobs=None,\n",
              "              num_parallel_tree=None, objective=&#x27;multi:softprob&#x27;, ...)</pre><b>In a Jupyter environment, please rerun this cell to show the HTML representation or trust the notebook. <br />On GitHub, the HTML representation is unable to render, please try loading this page with nbviewer.org.</b></div><div class=\"sk-container\" hidden><div class=\"sk-item\"><div class=\"sk-estimator sk-toggleable\"><input class=\"sk-toggleable__control sk-hidden--visually\" id=\"sk-estimator-id-4\" type=\"checkbox\" checked><label for=\"sk-estimator-id-4\" class=\"sk-toggleable__label sk-toggleable__label-arrow\">XGBClassifier</label><div class=\"sk-toggleable__content\"><pre>XGBClassifier(base_score=None, booster=None, callbacks=None,\n",
              "              colsample_bylevel=None, colsample_bynode=None,\n",
              "              colsample_bytree=None, device=None, early_stopping_rounds=None,\n",
              "              enable_categorical=False, eval_metric=None, feature_types=None,\n",
              "              gamma=None, grow_policy=None, importance_type=None,\n",
              "              interaction_constraints=None, learning_rate=None, max_bin=None,\n",
              "              max_cat_threshold=None, max_cat_to_onehot=None,\n",
              "              max_delta_step=None, max_depth=None, max_leaves=None,\n",
              "              min_child_weight=None, missing=nan, monotone_constraints=None,\n",
              "              multi_strategy=None, n_estimators=None, n_jobs=None,\n",
              "              num_parallel_tree=None, objective=&#x27;multi:softprob&#x27;, ...)</pre></div></div></div></div></div>"
            ]
          },
          "metadata": {},
          "execution_count": 50
        }
      ],
      "source": [
        "# Train an XGBoost classifier on the reshaped features\n",
        "xgb_model = XGBClassifier()\n",
        "xgb_model.fit(train_features, train_labels)\n"
      ]
    },
    {
      "cell_type": "markdown",
      "metadata": {
        "id": "38GQhMy6NHR1"
      },
      "source": [
        "Validation"
      ]
    },
    {
      "cell_type": "code",
      "execution_count": 51,
      "metadata": {
        "colab": {
          "base_uri": "https://localhost:8080/"
        },
        "id": "XRpFPr_mNHZW",
        "outputId": "f1c75463-1047-486e-b431-41811958c8a4"
      },
      "outputs": [
        {
          "output_type": "stream",
          "name": "stdout",
          "text": [
            "Validation accuracy: 0.933920704845815\n"
          ]
        }
      ],
      "source": [
        "# Make predictions on the validation set\n",
        "validation_predictions = xgb_model.predict(validation_features)\n",
        "validation_accuracy = accuracy_score(validation_labels, validation_predictions)\n",
        "print(\"Validation accuracy:\", validation_accuracy)\n"
      ]
    },
    {
      "cell_type": "markdown",
      "metadata": {
        "id": "sXKjqN9LOGpv"
      },
      "source": [
        "Save Model"
      ]
    },
    {
      "cell_type": "code",
      "execution_count": 52,
      "metadata": {
        "colab": {
          "base_uri": "https://localhost:8080/"
        },
        "id": "1tBU2rXmN7BP",
        "outputId": "c23c2b0c-f112-4a68-d6c2-f8fb1f9c2fd9"
      },
      "outputs": [
        {
          "output_type": "stream",
          "name": "stderr",
          "text": [
            "/usr/local/lib/python3.10/dist-packages/xgboost/core.py:160: UserWarning: [18:20:03] WARNING: /workspace/src/c_api/c_api.cc:1240: Saving into deprecated binary model format, please consider using `json` or `ubj`. Model format will default to JSON in XGBoost 2.2 if not specified.\n",
            "  warnings.warn(smsg, UserWarning)\n"
          ]
        }
      ],
      "source": [
        "# Save the XGBoost model\n",
        "xgb_model.save_model(\"/content/drive/MyDrive/GLUCOMA/models/xgboost_model_100x100.model\")"
      ]
    },
    {
      "cell_type": "markdown",
      "metadata": {
        "id": "BX_x1l03OMQf"
      },
      "source": [
        "Make Prediction on new Single image"
      ]
    },
    {
      "cell_type": "code",
      "execution_count": 53,
      "metadata": {
        "colab": {
          "base_uri": "https://localhost:8080/"
        },
        "id": "59yFB7ugOM0h",
        "outputId": "f2c098ef-6832-4fc0-d5c0-a3c308a86e4e"
      },
      "outputs": [
        {
          "output_type": "stream",
          "name": "stdout",
          "text": [
            "1/1 [==============================] - 3s 3s/step\n",
            "The image is predicted to be Non-Glaucoma.\n"
          ]
        }
      ],
      "source": [
        "from tensorflow.keras.applications import DenseNet201\n",
        "import numpy as np\n",
        "from PIL import Image\n",
        "from xgboost import XGBClassifier\n",
        "\n",
        "# Load your XGBoost model (already trained)\n",
        "xgb_model = XGBClassifier()\n",
        "xgb_model.load_model(\"/content/drive/MyDrive/GLUCOMA/models/xgboost_model_150x150.model\")  # Load your trained model file\n",
        "\n",
        "# Load the new image\n",
        "new_image_path = \"/content/drive/MyDrive/GLUCOMA/test/Negative/glaucoma 150_255.jpg\"\n",
        "img = Image.open(new_image_path)\n",
        "img = img.resize((150, 150))  # Resize to match the input size of the model\n",
        "\n",
        "# Create a pre-trained DenseNet201 model to extract features\n",
        "base_model = DenseNet201(weights='imagenet', include_top=False, input_shape=(150, 150, 3))\n",
        "\n",
        "# Extract features from the new image\n",
        "img_array = np.array(img)\n",
        "img_array = img_array / 255.0  # Normalize pixel values\n",
        "img_array = np.expand_dims(img_array, axis=0)  # Add batch dimension\n",
        "features = base_model.predict(img_array)\n",
        "\n",
        "# Reshape the features for XGBoost (2D matrix)\n",
        "features = features.reshape(features.shape[0], -1)\n",
        "\n",
        "# Make predictions using the XGBoost model\n",
        "predictions = xgb_model.predict(features)\n",
        "\n",
        "# Assuming 1 indicates Glaucoma and 0 indicates Non-Glaucoma\n",
        "if predictions[0] == 1:\n",
        "    print(\"The image is predicted to have Glaucoma.\")\n",
        "else:\n",
        "    print(\"The image is predicted to be Non-Glaucoma.\")\n"
      ]
    },
    {
      "cell_type": "markdown",
      "metadata": {
        "id": "ELqNrfg6OXBL"
      },
      "source": [
        "Make Predictionn on multiple images"
      ]
    },
    {
      "cell_type": "code",
      "execution_count": 41,
      "metadata": {
        "colab": {
          "base_uri": "https://localhost:8080/"
        },
        "id": "U-lZPPcXOcTX",
        "outputId": "87298db0-4640-45b2-f007-c91b1420edda"
      },
      "outputs": [
        {
          "output_type": "stream",
          "name": "stdout",
          "text": [
            "1/1 [==============================] - 3s 3s/step\n",
            "Predicted: Non-Glaucoma, Actual: Positive\n",
            "1/1 [==============================] - 4s 4s/step\n",
            "Predicted: Glaucoma, Actual: Positive\n",
            "1/1 [==============================] - 5s 5s/step\n",
            "Predicted: Glaucoma, Actual: Positive\n",
            "1/1 [==============================] - 4s 4s/step\n",
            "Predicted: Non-Glaucoma, Actual: Positive\n",
            "1/1 [==============================] - 4s 4s/step\n",
            "Predicted: Glaucoma, Actual: Positive\n",
            "1/1 [==============================] - 4s 4s/step\n",
            "Predicted: Glaucoma, Actual: Positive\n",
            "1/1 [==============================] - 3s 3s/step\n",
            "Predicted: Non-Glaucoma, Actual: Positive\n",
            "1/1 [==============================] - 4s 4s/step\n",
            "Predicted: Glaucoma, Actual: Positive\n",
            "1/1 [==============================] - 3s 3s/step\n",
            "Predicted: Glaucoma, Actual: Positive\n",
            "1/1 [==============================] - 3s 3s/step\n",
            "Predicted: Non-Glaucoma, Actual: Positive\n",
            "1/1 [==============================] - 4s 4s/step\n",
            "Predicted: Glaucoma, Actual: Positive\n",
            "1/1 [==============================] - 3s 3s/step\n",
            "Predicted: Glaucoma, Actual: Positive\n",
            "1/1 [==============================] - 4s 4s/step\n",
            "Predicted: Glaucoma, Actual: Positive\n",
            "1/1 [==============================] - 5s 5s/step\n",
            "Predicted: Non-Glaucoma, Actual: Positive\n",
            "1/1 [==============================] - 3s 3s/step\n",
            "Predicted: Non-Glaucoma, Actual: Negative\n",
            "1/1 [==============================] - 3s 3s/step\n",
            "Predicted: Glaucoma, Actual: Negative\n",
            "1/1 [==============================] - 5s 5s/step\n",
            "Predicted: Non-Glaucoma, Actual: Negative\n",
            "1/1 [==============================] - 3s 3s/step\n",
            "Predicted: Non-Glaucoma, Actual: Negative\n",
            "1/1 [==============================] - 3s 3s/step\n",
            "Predicted: Non-Glaucoma, Actual: Negative\n",
            "1/1 [==============================] - 4s 4s/step\n",
            "Predicted: Non-Glaucoma, Actual: Negative\n",
            "1/1 [==============================] - 3s 3s/step\n",
            "Predicted: Non-Glaucoma, Actual: Negative\n",
            "1/1 [==============================] - 4s 4s/step\n",
            "Predicted: Non-Glaucoma, Actual: Negative\n",
            "1/1 [==============================] - 4s 4s/step\n",
            "Predicted: Non-Glaucoma, Actual: Negative\n",
            "1/1 [==============================] - 3s 3s/step\n",
            "Predicted: Non-Glaucoma, Actual: Negative\n",
            "1/1 [==============================] - 3s 3s/step\n",
            "Predicted: Non-Glaucoma, Actual: Negative\n",
            "1/1 [==============================] - 4s 4s/step\n",
            "Predicted: Non-Glaucoma, Actual: Negative\n",
            "1/1 [==============================] - 3s 3s/step\n",
            "Predicted: Non-Glaucoma, Actual: Negative\n",
            "1/1 [==============================] - 4s 4s/step\n",
            "Predicted: Non-Glaucoma, Actual: Negative\n"
          ]
        }
      ],
      "source": [
        "import os\n",
        "import numpy as np\n",
        "from PIL import Image\n",
        "from xgboost import XGBClassifier\n",
        "from tensorflow.keras.applications import DenseNet201\n",
        "\n",
        "# Load your trained XGBoost model\n",
        "xgb_model = XGBClassifier()\n",
        "xgb_model.load_model(\"/content/drive/MyDrive/GLUCOMA/models/xgboost_model_150x150.model\")  # Load your trained model file\n",
        "\n",
        "# Define the directory containing the test images\n",
        "test_dir = \"/content/drive/MyDrive/GLUCOMA/test\"\n",
        "\n",
        "# Iterate through the images and make predictions\n",
        "for class_name in os.listdir(test_dir):\n",
        "    class_dir = os.path.join(test_dir, class_name)\n",
        "    for image_file in os.listdir(class_dir):\n",
        "        image_path = os.path.join(class_dir, image_file)\n",
        "\n",
        "        # Load and preprocess the image\n",
        "        img = Image.open(image_path)\n",
        "        img = img.resize((150, 150))\n",
        "        img_array = np.array(img)\n",
        "        img_array = img_array / 255.0\n",
        "        img_array = np.expand_dims(img_array, axis=0)\n",
        "\n",
        "        # Extract features from the image using DenseNet201\n",
        "        base_model = DenseNet201(weights='imagenet', include_top=False, input_shape=(150, 150, 3))\n",
        "        features = base_model.predict(img_array)\n",
        "        features = features.reshape(features.shape[0], -1)\n",
        "\n",
        "        # Make predictions using the XGBoost model\n",
        "        predictions = xgb_model.predict(features)\n",
        "\n",
        "        # Define class labels\n",
        "        if predictions[0] == 1:\n",
        "            predicted_label = \"Glaucoma\"\n",
        "        else:\n",
        "            predicted_label = \"Non-Glaucoma\"\n",
        "\n",
        "        # Display the predicted label and actual label\n",
        "        print(f\"Predicted: {predicted_label}, Actual: {class_name}\")\n",
        "\n"
      ]
    }
  ],
  "metadata": {
    "accelerator": "GPU",
    "colab": {
      "provenance": []
    },
    "kernelspec": {
      "display_name": "Python 3",
      "name": "python3"
    },
    "language_info": {
      "name": "python"
    }
  },
  "nbformat": 4,
  "nbformat_minor": 0
}